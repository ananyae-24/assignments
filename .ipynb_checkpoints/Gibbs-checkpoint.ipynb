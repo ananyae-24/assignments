{
 "cells": [
  {
   "cell_type": "code",
   "execution_count": null,
   "metadata": {},
   "outputs": [],
   "source": [
    "import numpy as np\n",
    "import matplotlib.pyplot as plt"
   ]
  },
  {
   "cell_type": "code",
   "execution_count": null,
   "metadata": {},
   "outputs": [],
   "source": [
    "mean=[0,0]\n",
    "cov=[[1,0],[0,1]]\n",
    "p=cov[0][1]/((cov[0][0]*cov[1][1])**.5)\n",
    "s1=cov[0][0]**.5\n",
    "s2=cov[1][1]**.5\n",
    "def sample_multivar(n=1):\n",
    "    return np.random.multivariate_normal(mean, cov, n)\n",
    "def sample_univar_x1(x1,n=1):\n",
    "    mu=mean[1]+(p*s2*(x1-mean[0])/s1)\n",
    "    var=(1-p*p)*s2*s2\n",
    "    return np.random.normal(mu,var**.5,n)\n",
    "def sample_univar_x2(x2,n=1):\n",
    "    mu=mean[0]+(p*s1*(x2-mean[1])/s2)\n",
    "    var=(1-p*p)*s1*s1\n",
    "    return np.random.normal(mu,var**.5,n)"
   ]
  },
  {
   "cell_type": "code",
   "execution_count": null,
   "metadata": {},
   "outputs": [],
   "source": [
    "def draw_one(X):\n",
    "    x1=sample_univar_x2(X[1])\n",
    "    y1=sample_univar_x1(x1)\n",
    "    return [x1,y1]"
   ]
  },
  {
   "cell_type": "code",
   "execution_count": null,
   "metadata": {},
   "outputs": [],
   "source": [
    "def drawn(n):\n",
    "    l=list()\n",
    "    X=[0,0]\n",
    "    for i in range(n):\n",
    "        a=draw_one(X)\n",
    "        X=a\n",
    "        l.append(a)\n",
    "    return l"
   ]
  },
  {
   "cell_type": "code",
   "execution_count": null,
   "metadata": {},
   "outputs": [],
   "source": [
    "X=np.array(sample_multivar(1000))\n",
    "plt.scatter(X[:,0],X[:,1])"
   ]
  },
  {
   "cell_type": "code",
   "execution_count": null,
   "metadata": {},
   "outputs": [],
   "source": []
  }
 ],
 "metadata": {
  "kernelspec": {
   "display_name": "Python 3",
   "language": "python",
   "name": "python3"
  },
  "language_info": {
   "codemirror_mode": {
    "name": "ipython",
    "version": 3
   },
   "file_extension": ".py",
   "mimetype": "text/x-python",
   "name": "python",
   "nbconvert_exporter": "python",
   "pygments_lexer": "ipython3",
   "version": "3.8.3"
  }
 },
 "nbformat": 4,
 "nbformat_minor": 4
}
