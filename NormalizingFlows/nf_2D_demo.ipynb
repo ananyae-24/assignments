{
  "nbformat": 4,
  "nbformat_minor": 0,
  "metadata": {
    "colab": {
      "name": "Updated 2022_nf_2D_demo.ipynb",
      "provenance": [],
      "collapsed_sections": []
    },
    "kernelspec": {
      "name": "python3",
      "display_name": "Python 3"
    },
    "language_info": {
      "name": "python"
    },
    "accelerator": "GPU"
  },
  "cells": [
    {
      "cell_type": "markdown",
      "source": [
        "Written by: kvikas@, vipular@, alifaraz@"
      ],
      "metadata": {
        "id": "FINEroCu-YnH"
      }
    },
    {
      "cell_type": "code",
      "source": [
        "import numpy as np\n",
        "import matplotlib.pyplot as plt\n",
        "import tensorflow as tf\n",
        "from tensorflow import keras\n",
        "from tensorflow.keras import layers\n",
        "from tensorflow.keras import optimizers"
      ],
      "metadata": {
        "id": "BZU8B72hBycH"
      },
      "execution_count": null,
      "outputs": []
    },
    {
      "cell_type": "code",
      "execution_count": null,
      "metadata": {
        "id": "w1cs1CB-BkKN"
      },
      "outputs": [],
      "source": [
        "def generate_2d_data(batch_size=1000):\n",
        "    rng = np.random.RandomState()\n",
        "        \n",
        "    scale = 4.\n",
        "    centers = [(1, 0), (-1, 0), (0, 1), (0, -1)]\n",
        "    centers = [(scale * x, scale * y) for x, y in centers]\n",
        "\n",
        "    dataset = []\n",
        "    for i in range(batch_size):\n",
        "        point = rng.randn(2) * 0.5   #According to me, 0.5 should not be there.\n",
        "        idx = rng.randint(4)\n",
        "        center = centers[idx]\n",
        "        point[0] += center[0]\n",
        "        point[1] += center[1]\n",
        "        dataset.append(point)\n",
        "    dataset = np.array(dataset, dtype=\"float32\")\n",
        "    dataset /= 1.414                #According to me, this line should not be there.\n",
        "    return dataset"
      ]
    },
    {
      "cell_type": "code",
      "source": [
        "def plot_samples_2d(data, name=None):\n",
        "    plt.figure(figsize=(5,5))\n",
        "    plt.xlim([-5, 5])\n",
        "    plt.ylim([-5, 5])\n",
        "    plt.scatter(data[:, 0], data[:, 1]) \n",
        "    \n",
        "    if name:\n",
        "        plt.savefig('./demo/%s'%(name) + \".png\", format=\"png\")"
      ],
      "metadata": {
        "id": "qvqWRWQ-B0xi"
      },
      "execution_count": null,
      "outputs": []
    },
    {
      "cell_type": "code",
      "source": [
        "data=generate_2d_data(1000000)\n",
        "plot_samples_2d(data)"
      ],
      "metadata": {
        "colab": {
          "base_uri": "https://localhost:8080/",
          "height": 320
        },
        "id": "lKwdwfNaCCX7",
        "outputId": "9913b7f3-1337-4309-fbad-20024a58665f"
      },
      "execution_count": null,
      "outputs": [
        {
          "output_type": "display_data",
          "data": {
            "image/png": "[encoded data removed]",
            "text/plain": [
              "<Figure size 360x360 with 1 Axes>"
            ]
          },
          "metadata": {
            "needs_background": "light"
          }
        }
      ]
    },
    {
      "cell_type": "markdown",
      "source": [
        "**Note:** We just have the samples, no $p^*_x(x)$.\n",
        "\n",
        "Let us create the input distribution $p_u(u)$"
      ],
      "metadata": {
        "id": "8zssNivNCy8T"
      }
    },
    {
      "cell_type": "code",
      "source": [
        "import tensorflow_probability as tfp\n",
        "base_dist = tfp.distributions.MultivariateNormalDiag(loc=tf.zeros([2])) #, tf.float32))"
      ],
      "metadata": {
        "id": "dkgQ_ri2CJb_"
      },
      "execution_count": null,
      "outputs": []
    },
    {
      "cell_type": "code",
      "source": [
        "class NN(layers.Layer):\n",
        "    \"\"\"\n",
        "    Neural Network Architecture for calcualting s and t for Real-NVP\n",
        "    \n",
        "    :param input_shape: shape of the data coming in the layer\n",
        "    :param hidden_units: Python list-like of non-negative integers, specifying the number of units in each hidden layer.\n",
        "    :param activation: Activation of the hidden units\n",
        "    \"\"\"\n",
        "    def __init__(self, input_shape, n_hidden=[64,64], activation=\"relu\"):\n",
        "        super(NN, self).__init__(name=\"nn\")\n",
        "        layer_list = []\n",
        "        for n in n_hidden:\n",
        "            layer_list.append(layers.Dense(n, activation=activation))\n",
        "        self.layer_list = layer_list\n",
        "        self.log_s_layer = layers.Dense(input_shape, activation=\"tanh\", name='log_s')\n",
        "        self.t_layer = layers.Dense(input_shape, name='t')\n",
        "\n",
        "    def call(self, x):\n",
        "        y = x\n",
        "        for layer in self.layer_list:\n",
        "            y = layer(y)\n",
        "        log_s = self.log_s_layer(y)\n",
        "        t = self.t_layer(y)\n",
        "        return log_s, t"
      ],
      "metadata": {
        "id": "og1-ZnwsDlgW"
      },
      "execution_count": null,
      "outputs": []
    },
    {
      "cell_type": "code",
      "source": [
        "class RealNVP:\n",
        "    \"\"\"\n",
        "    Implementation of a Real-NVP for Density Estimation. L. Dinh “Density estimation using Real NVP,” 2016.\n",
        "    This implementation only works for 1D arrays.\n",
        "    :param input_shape: shape of the data coming in the layer\n",
        "    :param hidden_units: Python list-like of non-negative integers, specifying the number of units in each hidden layer.\n",
        "    \"\"\"\n",
        "\n",
        "    def __init__(self, input_shape, flip):\n",
        "        assert input_shape % 2 == 0\n",
        "        input_shape = input_shape // 2\n",
        "        nn = NN(input_shape)\n",
        "        x = keras.Input(input_shape)\n",
        "        log_s, t = nn(x)\n",
        "        self.nn = keras.Model(x, [log_s, t], name=\"nn\")\n",
        "        self.flip = flip\n",
        "        #print(self.nn.summary())\n",
        "        \n",
        "    def _forward(self, u):\n",
        "        u1, u2 = tf.split(u, 2, axis=-1)\n",
        "\n",
        "        if self.flip == True:\n",
        "          u1, u2 = u2, u1\n",
        "\n",
        "        x1 = u1\n",
        "        log_s, mu = self.nn(u1)\n",
        "        x2 = u2 * tf.exp(log_s) + mu \n",
        "\n",
        "        if self.flip == True:\n",
        "          x1, x2 = x2, x1\n",
        "        \n",
        "        x = tf.concat([x1, x2], axis=-1)\n",
        "        return x, log_s\n",
        "\n",
        "    def _inverse(self, x):\n",
        "        x1, x2 = tf.split(x, 2, axis=-1)\n",
        "\n",
        "        if self.flip == True:\n",
        "          x1, x2 = x2, x1\n",
        "        \n",
        "        u1 = x1\n",
        "        log_s, mu = self.nn(x1)\n",
        "        u2 = (x2 - mu)/tf.exp(log_s)\n",
        "\n",
        "        if self.flip == True:\n",
        "          u1, u2 = u2, u1\n",
        "        \n",
        "        u = tf.concat([u1, u2], axis=-1)\n",
        "        return u, log_s\n",
        "\n",
        "    # def _forward_log_det_jacobian(self, u):\n",
        "    #     u1, u2 = tf.split(u, 2, axis=-1)\n",
        "    #     log_s, mu = self.nn(u1)\n",
        "    #     return log_s\n",
        "\n",
        "    # def _inverse_log_det_jacobian(self, x):\n",
        "    #     x1, x2 = tf.split(x, 2, axis=-1)\n",
        "    #     log_s, mu = self.nn(x1)\n",
        "    #     return -log_s\n"
      ],
      "metadata": {
        "id": "Z6RYKkFfS45O"
      },
      "execution_count": null,
      "outputs": []
    },
    {
      "cell_type": "code",
      "source": [
        "n = 4\n",
        "flip = False\n",
        "rnvp_chain = []\n",
        "for i in range(n):\n",
        "  rnvp_chain.append(RealNVP(2,flip))\n",
        "  flip = not flip\n",
        "#print(rnvp_chain[0].nn.trainable_variables)\n",
        "#print(rnvp_chain[1].nn.trainable_variables)"
      ],
      "metadata": {
        "id": "tsu-tL-I5Lzk"
      },
      "execution_count": null,
      "outputs": []
    },
    {
      "cell_type": "code",
      "source": [
        "def complete_inverse(x):\n",
        "  u = x\n",
        "  log_det_jacob_inv_transf = 0\n",
        "  for i in range(n-1,-1,-1):\n",
        "    u, log_s = rnvp_chain[i]._inverse(u)\n",
        "    log_det_jacob_inv_transf = log_det_jacob_inv_transf - log_s\n",
        "  return u, log_det_jacob_inv_transf\n",
        "\n",
        "def complete_forward(u):\n",
        "  x = u\n",
        "  log_det_jacob_forward_transf = 0\n",
        "  for i in range(n):\n",
        "    x, log_s = rnvp_chain[i]._forward(x)\n",
        "    log_det_jacob_forward_transf = log_det_jacob_forward_transf + log_s\n",
        "  return x, log_det_jacob_forward_transf"
      ],
      "metadata": {
        "id": "kNUykCLwqDd1"
      },
      "execution_count": null,
      "outputs": []
    },
    {
      "cell_type": "code",
      "source": [
        "#complete this function\n",
        "@tf.function\n",
        "def train_density_estimation(data_batch, rnvp_chain, base_dist, optimizer): #batch):\n",
        "    \"\"\"\n",
        "    Train function for density estimation normalizing flows.\n",
        "    \"\"\"\n",
        "    with tf.GradientTape() as tape:\n",
        "      u, log_det_jacob_inv_transf = complete_inverse(data_batch)\n",
        "      loss = -tf.reduce_mean(base_dist.log_prob(u) + log_det_jacob_inv_transf)\n",
        "        # loss = -tf.log(pu)\n",
        "        # for rnvp in rnvps:\n",
        "        #     x = rnvp._forward(u)\n",
        "        #     loss -= rnvp._forward_log_det_jacobian(u)\n",
        "\n",
        "\n",
        "\n",
        "        #tape.watch(distribution.trainable_variables)\n",
        "        #loss = -tf.reduce_mean(base_dist.log_prob(distribution.bijector.inverse(batch,event_ndims=1)) + distribution.bijector.inverse_log_det_jacobian(batch,event_ndims=1))\n",
        "    # training_variables = rnvp_chain[0].nn.trainable_variables\n",
        "    # print(tf.shape(training_variables))\n",
        "    # for rnvp in rnvp_chain[1:]:\n",
        "    #   print(tf.shape(rnvp.nn.trainable_variables))\n",
        "    #   training_variables = tf.concat([training_variables,rnvp.nn.trainable_variables],-1)\n",
        "    #gradients = tape.gradient(loss, training_variables)\n",
        "    #gradients = tape.gradient(loss, (rnvp_chain[0].nn.trainable_variables,rnvp_chain[1].nn.trainable_variables))\n",
        "    gradients = tape.gradient(loss, tape.watched_variables())\n",
        "    #optimizer.apply_gradients(zip(gradients, training_variables))\n",
        "    #optimizer.apply_gradients(zip(gradients, (rnvp_chain[0].nn.trainable_variables,rnvp_chain[1].nn.trainable_variables)))\n",
        "    optimizer.apply_gradients(zip(gradients, tape.watched_variables()))\n",
        "    return loss"
      ],
      "metadata": {
        "id": "DPTYf7qFbFDN"
      },
      "execution_count": null,
      "outputs": []
    },
    {
      "cell_type": "code",
      "source": [
        "dataset_size = 1000000\n",
        "epochs = 1\n",
        "optimizer = optimizers.Adam(learning_rate = 0.001)\n",
        "batch_size = 128\n",
        "batches_per_epoch = dataset_size//batch_size+1\n",
        "for i in range(epochs):\n",
        "  for j in range(batches_per_epoch):\n",
        "    data_batch = data[batch_size*j:batch_size*(j+1)]\n",
        "    last_loss = train_density_estimation(data_batch, rnvp_chain, base_dist, optimizer)\n",
        "  print(last_loss)"
      ],
      "metadata": {
        "colab": {
          "base_uri": "https://localhost:8080/"
        },
        "id": "EBkwlZNvaTEQ",
        "outputId": "f2f833e1-bcbd-48b0-8845-203718eb1e38"
      },
      "execution_count": null,
      "outputs": [
        {
          "output_type": "stream",
          "name": "stdout",
          "text": [
            "tf.Tensor(2.5581129, shape=(), dtype=float32)\n"
          ]
        }
      ]
    },
    {
      "cell_type": "code",
      "source": [
        "test_samples_u = base_dist.sample(10000)\n",
        "test_samples_x, _ = complete_forward(test_samples_u)\n",
        "plot_samples_2d(test_samples_x)"
      ],
      "metadata": {
        "colab": {
          "base_uri": "https://localhost:8080/",
          "height": 320
        },
        "id": "worBjyua9YC5",
        "outputId": "c656c98a-23d3-47a6-b35b-9cdf5f55f21a"
      },
      "execution_count": null,
      "outputs": [
        {
          "output_type": "display_data",
          "data": {
            "image/png": "[encoded data removed]",
            "text/plain": [
              "<Figure size 360x360 with 1 Axes>"
            ]
          },
          "metadata": {
            "needs_background": "light"
          }
        }
      ]
    }
  ]
}